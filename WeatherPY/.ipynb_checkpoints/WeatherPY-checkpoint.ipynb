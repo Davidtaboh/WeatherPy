{
 "cells": [
  {
   "cell_type": "markdown",
   "metadata": {},
   "source": [
    "# WeatherPy\n",
    "----\n",
    "\n",
    "#### Note\n",
    "* Instructions have been included for each segment. You do not have to follow them exactly, but they are included to help you think through the steps."
   ]
  },
  {
   "cell_type": "code",
   "execution_count": 4,
   "metadata": {
    "scrolled": true
   },
   "outputs": [],
   "source": [
    "# Dependencies and Setup\n",
    "import matplotlib.pyplot as plt\n",
    "import pandas as pd\n",
    "import numpy as np\n",
    "import pprint as pp\n",
    "import requests\n",
    "import time\n",
    "from citipy import citipy\n",
    "from scipy.stats import linregress\n",
    "\n",
    "# Import API key\n",
    "from api_keys import weather_api_key\n",
    "\n",
    "# Incorporated citipy to determine city based on latitude and longitude\n",
    "#from citipy import citipy\n",
    "\n",
    "# Output File (CSV)\n",
    "output_data_file = \"output_data/cities.csv\"\n",
    "\n",
    "# Range of latitudes and longitudes\n",
    "lat_range = (-90, 90)\n",
    "lng_range = (-180, 180)"
   ]
  },
  {
   "cell_type": "markdown",
   "metadata": {},
   "source": [
    "## Generate Cities List"
   ]
  },
  {
   "cell_type": "code",
   "execution_count": 7,
   "metadata": {},
   "outputs": [
    {
     "data": {
      "text/plain": [
       "610"
      ]
     },
     "execution_count": 7,
     "metadata": {},
     "output_type": "execute_result"
    }
   ],
   "source": [
    "# List for holding lat_lngs and cities\n",
    "lat_lngs = []\n",
    "cities = []\n",
    "\n",
    "# Create a set of random lat and lng combinations\n",
    "lats = np.random.uniform(low=-90.000, high=90.000, size=1500)\n",
    "lngs = np.random.uniform(low=-180.000, high=180.000, size=1500)\n",
    "lat_lngs = zip(lats, lngs)\n",
    "\n",
    "# Identify nearest city for each lat, lng combination\n",
    "for lat_lng in lat_lngs:\n",
    "    city = citipy.nearest_city(lat_lng[0], lat_lng[1]).city_name\n",
    "    \n",
    "    # If the city is unique, then add it to a our cities list\n",
    "    if city not in cities:\n",
    "        cities.append(city)\n",
    "\n",
    "# Print the city count to confirm sufficient count\n",
    "len(cities)"
   ]
  },
  {
   "cell_type": "markdown",
   "metadata": {},
   "source": [
    "### Perform API Calls\n",
    "* Perform a weather check on each city using a series of successive API calls.\n",
    "* Include a print log of each city as it'sbeing processed (with the city number and city name).\n"
   ]
  },
  {
   "cell_type": "code",
   "execution_count": 10,
   "metadata": {},
   "outputs": [
    {
     "ename": "NameError",
     "evalue": "name 'query_url' is not defined",
     "output_type": "error",
     "traceback": [
      "\u001b[1;31m---------------------------------------------------------------------------\u001b[0m",
      "\u001b[1;31mNameError\u001b[0m                                 Traceback (most recent call last)",
      "\u001b[1;32m<ipython-input-10-60a1354d3013>\u001b[0m in \u001b[0;36m<module>\u001b[1;34m\u001b[0m\n\u001b[0;32m     34\u001b[0m \u001b[1;31m# query_url = \"http://api.openweathermap.org/data/2.5/weather?q={city}&APPID=73911002d7a18b350355619e7799fdd8\"\u001b[0m\u001b[1;33m\u001b[0m\u001b[1;33m\u001b[0m\u001b[1;33m\u001b[0m\u001b[0m\n\u001b[0;32m     35\u001b[0m \u001b[1;33m\u001b[0m\u001b[0m\n\u001b[1;32m---> 36\u001b[1;33m \u001b[0mresponse\u001b[0m \u001b[1;33m=\u001b[0m \u001b[0mrequests\u001b[0m\u001b[1;33m.\u001b[0m\u001b[0mget\u001b[0m\u001b[1;33m(\u001b[0m\u001b[0mquery_url\u001b[0m\u001b[1;33m)\u001b[0m\u001b[1;33m\u001b[0m\u001b[1;33m\u001b[0m\u001b[0m\n\u001b[0m\u001b[0;32m     37\u001b[0m \u001b[1;33m\u001b[0m\u001b[0m\n\u001b[0;32m     38\u001b[0m \u001b[0mprint\u001b[0m\u001b[1;33m(\u001b[0m\u001b[1;34m\"Beginning Data Retrieval\"\u001b[0m\u001b[1;33m)\u001b[0m\u001b[1;33m\u001b[0m\u001b[1;33m\u001b[0m\u001b[0m\n",
      "\u001b[1;31mNameError\u001b[0m: name 'query_url' is not defined"
     ]
    }
   ],
   "source": [
    "# for x in range(len(indices)):\n",
    "#     print(f\"Making request number: {x} for ID: {indices[x]}\")\n",
    "\n",
    "#     # Get one of the posts\n",
    "#     post_response = requests.get(url + str(indices[x]))\n",
    "\n",
    "#     # Save post's JSON\n",
    "#     response_json.append(post_response.json())\n",
    "\n",
    "city_name = []\n",
    "city_data = []\n",
    "cloudiness = []\n",
    "country = []\n",
    "date = []\n",
    "humidity = []\n",
    "lat = []\n",
    "lng = []\n",
    "max_temp = []\n",
    "wind_speed = []\n",
    "\n",
    "\n",
    "# city_data = {\"city_name\" : [],\n",
    "# \"city_data : [],\n",
    "# \"cloudiness\" : [],\n",
    "# \"country\" : [],\n",
    "# \"date\" : [],\n",
    "# \"humidity\" : [],\n",
    "# \"lat\" : [],\n",
    "# \"lng\" : [],\n",
    "# \"max_temp\" : [],\n",
    "# \"wind_speed\" : []}\n",
    "\n",
    "#query_url = url + city + \"73911002d7a18b350355619e7799fdd8\"\n",
    "# query_url = \"http://api.openweathermap.org/data/2.5/weather?q={city}&APPID=73911002d7a18b350355619e7799fdd8\"\n",
    "\n",
    "response = requests.get(query_url)\n",
    "\n",
    "print(\"Beginning Data Retrieval\")     \n",
    "print(\"----------------------------\")\n",
    "record = 0\n",
    "\n",
    "for city in cities:\n",
    "    try:\n",
    "        query_url = f\"http://api.openweathermap.org/data/2.5/weather?q={city}&APPID=73911002d7a18b350355619e7799fdd8\"\n",
    "        city_weather_info = requests.get(query_url).json()\n",
    "#         lat = city_weather_info['coord']['lat']\n",
    "\n",
    "#         city_data[\"city_name\"].append(city_weather_info[\"name\"])\n",
    "#         city_data[\"cloudiness\"].append(city_weather_info[\"clouds\"])       \n",
    "#         city_data[\"country\"].append(city_weather_info[\"sys\"][\"country\"])\n",
    "#         city_data[\"date\"].append(city_weather_info[\"dt\"])\n",
    "#         humidity.append(city_weather_info[\"main\"][\"humidity\"])\n",
    "#         lat.append(city_weather_info[\"coord\"][\"lat\"])\n",
    "#         lng.append(city_weather_info[\"coord\"][\"lon\"])\n",
    "#         max_temp.append(city_weather_info[\"main\"][\"temp_max\"])\n",
    "#         wind_speed.append(city_weather_info[\"wind\"][\"speed\"])\n",
    "#         city_record = city_weather_info[\"name\"]\n",
    "        \n",
    "        # Append the City information into city_data list\n",
    "        \n",
    "        city_data.append({\"City\": city, \n",
    "                          \"Lat\": city_weather_info['coord']['lat'], \n",
    "                          \"Lng\": city_weather_info['coord']['lon'], \n",
    "                          \"Max Temp\": city_weather_info[\"main\"][\"temp_max\"],\n",
    "                          \"Humidity\": city_weather_info[\"main\"][\"humidity\"],\n",
    "                          \"Cloudiness\": city_weather_info[\"clouds\"][\"all\"],\n",
    "                          \"Wind Speed\": city_weather_info[\"wind\"][\"speed\"],\n",
    "                          \"Country\": city_weather_info[\"sys\"][\"country\"],\n",
    "                          \"Date\": city_weather_info[\"main\"][\"temp_max\"]})\n",
    "        \n",
    "        time.sleep(1)\n",
    "        print(f\"Processing Record {record} | {city_record}\")\n",
    "        print(f\"{query_url}&q={city}\")\n",
    "    except (TypeError, KeyError):\n",
    "        print(f\"Skipping {city}\")\n",
    "\n",
    "    record = record + 1\n",
    "    \n",
    "                          \n"
   ]
  },
  {
   "cell_type": "code",
   "execution_count": 11,
   "metadata": {},
   "outputs": [
    {
     "ename": "NameError",
     "evalue": "name 'city_weather_info' is not defined",
     "output_type": "error",
     "traceback": [
      "\u001b[1;31m---------------------------------------------------------------------------\u001b[0m",
      "\u001b[1;31mNameError\u001b[0m                                 Traceback (most recent call last)",
      "\u001b[1;32m<ipython-input-11-50050ed62855>\u001b[0m in \u001b[0;36m<module>\u001b[1;34m\u001b[0m\n\u001b[1;32m----> 1\u001b[1;33m \u001b[0mcity_weather_info\u001b[0m\u001b[1;33m\u001b[0m\u001b[1;33m\u001b[0m\u001b[0m\n\u001b[0m",
      "\u001b[1;31mNameError\u001b[0m: name 'city_weather_info' is not defined"
     ]
    }
   ],
   "source": [
    "city_weather_info"
   ]
  },
  {
   "cell_type": "code",
   "execution_count": 12,
   "metadata": {},
   "outputs": [
    {
     "ename": "NameError",
     "evalue": "name 'response' is not defined",
     "output_type": "error",
     "traceback": [
      "\u001b[1;31m---------------------------------------------------------------------------\u001b[0m",
      "\u001b[1;31mNameError\u001b[0m                                 Traceback (most recent call last)",
      "\u001b[1;32m<ipython-input-12-0b8ac743bee2>\u001b[0m in \u001b[0;36m<module>\u001b[1;34m\u001b[0m\n\u001b[1;32m----> 1\u001b[1;33m \u001b[0mdata\u001b[0m \u001b[1;33m=\u001b[0m \u001b[0mresponse\u001b[0m\u001b[1;33m.\u001b[0m\u001b[0mjson\u001b[0m\u001b[1;33m(\u001b[0m\u001b[1;33m)\u001b[0m\u001b[1;33m\u001b[0m\u001b[1;33m\u001b[0m\u001b[0m\n\u001b[0m\u001b[0;32m      2\u001b[0m \u001b[0mdata\u001b[0m\u001b[1;33m\u001b[0m\u001b[1;33m\u001b[0m\u001b[0m\n",
      "\u001b[1;31mNameError\u001b[0m: name 'response' is not defined"
     ]
    }
   ],
   "source": [
    "data = response.json()\n",
    "data"
   ]
  },
  {
   "cell_type": "code",
   "execution_count": 84,
   "metadata": {},
   "outputs": [
    {
     "data": {
      "text/plain": [
       "[]"
      ]
     },
     "execution_count": 84,
     "metadata": {},
     "output_type": "execute_result"
    }
   ],
   "source": []
  },
  {
   "cell_type": "code",
   "execution_count": 22,
   "metadata": {},
   "outputs": [
    {
     "data": {
      "text/html": [
       "<div>\n",
       "<style scoped>\n",
       "    .dataframe tbody tr th:only-of-type {\n",
       "        vertical-align: middle;\n",
       "    }\n",
       "\n",
       "    .dataframe tbody tr th {\n",
       "        vertical-align: top;\n",
       "    }\n",
       "\n",
       "    .dataframe thead th {\n",
       "        text-align: right;\n",
       "    }\n",
       "</style>\n",
       "<table border=\"1\" class=\"dataframe\">\n",
       "  <thead>\n",
       "    <tr style=\"text-align: right;\">\n",
       "      <th></th>\n",
       "    </tr>\n",
       "  </thead>\n",
       "  <tbody>\n",
       "  </tbody>\n",
       "</table>\n",
       "</div>"
      ],
      "text/plain": [
       "Empty DataFrame\n",
       "Columns: []\n",
       "Index: []"
      ]
     },
     "execution_count": 22,
     "metadata": {},
     "output_type": "execute_result"
    }
   ],
   "source": []
  },
  {
   "cell_type": "code",
   "execution_count": null,
   "metadata": {},
   "outputs": [],
   "source": []
  },
  {
   "cell_type": "code",
   "execution_count": 3,
   "metadata": {},
   "outputs": [
    {
     "name": "stdout",
     "output_type": "stream",
     "text": [
      "Beginning Data Retrieval     \n",
      "-----------------------------\n",
      "Processing Record 1 of Set 1 | severo-kurilsk\n",
      "Processing Record 2 of Set 1 | darhan\n",
      "Processing Record 3 of Set 1 | tarakan\n",
      "Processing Record 4 of Set 1 | komsomolskiy\n",
      "Processing Record 5 of Set 1 | souillac\n",
      "Processing Record 6 of Set 1 | jiuquan\n",
      "Processing Record 7 of Set 1 | sesheke\n",
      "Processing Record 8 of Set 1 | punta arenas\n",
      "Processing Record 9 of Set 1 | clarence town\n",
      "Processing Record 10 of Set 1 | mataura\n",
      "Processing Record 11 of Set 1 | magadan\n",
      "Processing Record 12 of Set 1 | salym\n",
      "Processing Record 13 of Set 1 | carnarvon\n",
      "Processing Record 14 of Set 1 | puerto ayora\n",
      "Processing Record 15 of Set 1 | arys\n",
      "Processing Record 16 of Set 1 | prince rupert\n",
      "Processing Record 17 of Set 1 | albany\n",
      "Processing Record 18 of Set 1 | dikson\n",
      "Processing Record 19 of Set 1 | kapaa\n",
      "Processing Record 20 of Set 1 | rikitea\n",
      "Processing Record 21 of Set 1 | rio gallegos\n",
      "Processing Record 22 of Set 1 | kropotkin\n",
      "Processing Record 23 of Set 1 | butaritari\n",
      "Processing Record 24 of Set 1 | dahra\n",
      "Processing Record 25 of Set 1 | khatanga\n",
      "Processing Record 26 of Set 1 | stephenville\n",
      "Processing Record 27 of Set 1 | hobart\n",
      "Processing Record 28 of Set 1 | north bend\n",
      "Processing Record 29 of Set 1 | ponta do sol\n",
      "Processing Record 30 of Set 1 | faya\n",
      "Processing Record 31 of Set 1 | vryburg\n",
      "Processing Record 32 of Set 1 | lolua\n",
      "City not found. Skipping...\n",
      "Processing Record 33 of Set 1 | hasaki\n",
      "Processing Record 34 of Set 1 | zhigansk\n",
      "Processing Record 35 of Set 1 | ushuaia\n",
      "Processing Record 36 of Set 1 | thompson\n",
      "Processing Record 37 of Set 1 | margate\n",
      "Processing Record 38 of Set 1 | oksfjord\n",
      "Processing Record 39 of Set 1 | chumikan\n",
      "Processing Record 40 of Set 1 | kudat\n",
      "Processing Record 41 of Set 1 | jamestown\n",
      "Processing Record 42 of Set 1 | laguna\n",
      "Processing Record 43 of Set 1 | abu zabad\n",
      "Processing Record 44 of Set 1 | jiroft\n",
      "City not found. Skipping...\n",
      "Processing Record 45 of Set 1 | saint-joseph\n",
      "Processing Record 46 of Set 1 | cabo san lucas\n",
      "Processing Record 47 of Set 1 | new norfolk\n",
      "Processing Record 48 of Set 1 | port alfred\n",
      "Processing Record 49 of Set 1 | kirkwall\n",
      "Processing Record 50 of Set 1 | luderitz\n",
      "Processing Record 0 of Set 2 | bethel\n",
      "Processing Record 1 of Set 2 | vao\n",
      "Processing Record 2 of Set 2 | saldanha\n",
      "Processing Record 3 of Set 2 | melo\n",
      "Processing Record 4 of Set 2 | taolanaro\n",
      "City not found. Skipping...\n",
      "Processing Record 5 of Set 2 | college\n",
      "Processing Record 6 of Set 2 | prinos\n",
      "Processing Record 7 of Set 2 | kodiak\n",
      "Processing Record 8 of Set 2 | cabo rojo\n",
      "Processing Record 9 of Set 2 | nuevo ideal\n",
      "Processing Record 10 of Set 2 | yumen\n",
      "Processing Record 11 of Set 2 | khonsa\n",
      "Processing Record 12 of Set 2 | biloela\n",
      "Processing Record 13 of Set 2 | sungaipenuh\n",
      "Processing Record 14 of Set 2 | namatanai\n",
      "Processing Record 15 of Set 2 | kungurtug\n",
      "Processing Record 16 of Set 2 | port elizabeth\n",
      "Processing Record 17 of Set 2 | busselton\n",
      "Processing Record 18 of Set 2 | san rafael\n",
      "Processing Record 19 of Set 2 | cape town\n",
      "Processing Record 20 of Set 2 | hovd\n",
      "Processing Record 21 of Set 2 | isangel\n",
      "Processing Record 22 of Set 2 | ancud\n",
      "Processing Record 23 of Set 2 | humenne\n",
      "Processing Record 24 of Set 2 | natal\n",
      "Processing Record 25 of Set 2 | moron\n",
      "Processing Record 26 of Set 2 | saryshagan\n",
      "City not found. Skipping...\n",
      "Processing Record 27 of Set 2 | kaitangata\n",
      "Processing Record 28 of Set 2 | poya\n",
      "Processing Record 29 of Set 2 | yellowknife\n",
      "Processing Record 30 of Set 2 | pangai\n",
      "Processing Record 31 of Set 2 | havre-saint-pierre\n",
      "Processing Record 32 of Set 2 | takoradi\n",
      "Processing Record 33 of Set 2 | bathsheba\n",
      "Processing Record 34 of Set 2 | kirksville\n",
      "Processing Record 35 of Set 2 | pangody\n",
      "Processing Record 36 of Set 2 | qaanaaq\n",
      "Processing Record 37 of Set 2 | hithadhoo\n",
      "Processing Record 38 of Set 2 | borujan\n",
      "City not found. Skipping...\n",
      "Processing Record 39 of Set 2 | cambridge\n",
      "Processing Record 40 of Set 2 | damaturu\n",
      "Processing Record 41 of Set 2 | bardiyah\n",
      "City not found. Skipping...\n",
      "Processing Record 42 of Set 2 | carbonear\n",
      "Processing Record 43 of Set 2 | nikolskoye\n",
      "Processing Record 44 of Set 2 | mar del plata\n",
      "Processing Record 45 of Set 2 | charlestown\n",
      "Processing Record 46 of Set 2 | mixtepec\n",
      "City not found. Skipping...\n",
      "Processing Record 47 of Set 2 | touros\n",
      "Processing Record 48 of Set 2 | boissevain\n",
      "Processing Record 49 of Set 2 | bluff\n",
      "Processing Record 0 of Set 3 | kudahuvadhoo\n",
      "Processing Record 1 of Set 3 | illoqqortoormiut\n",
      "City not found. Skipping...\n",
      "Processing Record 2 of Set 3 | tairua\n",
      "Processing Record 3 of Set 3 | tuatapere\n",
      "Processing Record 4 of Set 3 | bredasdorp\n",
      "Processing Record 5 of Set 3 | silver city\n",
      "Processing Record 6 of Set 3 | veracruz\n",
      "Processing Record 7 of Set 3 | barentsburg\n",
      "City not found. Skipping...\n",
      "Processing Record 8 of Set 3 | rincon\n",
      "Processing Record 9 of Set 3 | hermanus\n",
      "Processing Record 10 of Set 3 | toktogul\n",
      "Processing Record 11 of Set 3 | lebu\n",
      "Processing Record 12 of Set 3 | mahebourg\n",
      "Processing Record 13 of Set 3 | yilan\n",
      "Processing Record 14 of Set 3 | mumford\n",
      "Processing Record 15 of Set 3 | atuona\n",
      "Processing Record 16 of Set 3 | diffa\n",
      "Processing Record 17 of Set 3 | saskylakh\n",
      "Processing Record 18 of Set 3 | yambio\n",
      "City not found. Skipping...\n",
      "Processing Record 19 of Set 3 | lompoc\n",
      "Processing Record 20 of Set 3 | ribeira grande\n",
      "Processing Record 21 of Set 3 | dana point\n",
      "Processing Record 22 of Set 3 | castro\n",
      "Processing Record 23 of Set 3 | upernavik\n",
      "Processing Record 24 of Set 3 | kavieng\n",
      "Processing Record 25 of Set 3 | barabinsk\n",
      "Processing Record 26 of Set 3 | port lincoln\n",
      "Processing Record 27 of Set 3 | malinovoye ozero\n",
      "Processing Record 28 of Set 3 | ambatofinandrahana\n",
      "Processing Record 29 of Set 3 | puerto del rosario\n",
      "Processing Record 30 of Set 3 | pevek\n",
      "Processing Record 31 of Set 3 | chuy\n",
      "Processing Record 32 of Set 3 | zhezkazgan\n",
      "Processing Record 33 of Set 3 | avarua\n",
      "Processing Record 34 of Set 3 | batagay-alyta\n",
      "Processing Record 35 of Set 3 | baltiysk\n",
      "Processing Record 36 of Set 3 | parfino\n",
      "Processing Record 37 of Set 3 | barrow\n",
      "Processing Record 38 of Set 3 | hilo\n",
      "Processing Record 39 of Set 3 | mackenzie\n",
      "Processing Record 40 of Set 3 | lebanon\n",
      "Processing Record 41 of Set 3 | nishihara\n",
      "Processing Record 42 of Set 3 | antalaha\n",
      "Processing Record 43 of Set 3 | narsaq\n",
      "Processing Record 44 of Set 3 | hami\n",
      "Processing Record 45 of Set 3 | shaoyang\n",
      "Processing Record 46 of Set 3 | chokurdakh\n",
      "Processing Record 47 of Set 3 | petropavlovsk-kamchatskiy\n",
      "Processing Record 48 of Set 3 | leningradskiy\n",
      "Processing Record 49 of Set 3 | amderma\n",
      "City not found. Skipping...\n",
      "Processing Record 0 of Set 4 | mehamn\n",
      "Processing Record 1 of Set 4 | vaini\n",
      "Processing Record 2 of Set 4 | bara\n",
      "Processing Record 3 of Set 4 | krasnoselkup\n",
      "City not found. Skipping...\n",
      "Processing Record 4 of Set 4 | risch\n",
      "Processing Record 5 of Set 4 | along\n",
      "Processing Record 6 of Set 4 | vestmanna\n",
      "Processing Record 7 of Set 4 | mwinilunga\n",
      "Processing Record 8 of Set 4 | kamenskoye\n",
      "City not found. Skipping...\n",
      "Processing Record 9 of Set 4 | pozo colorado\n",
      "Processing Record 10 of Set 4 | tumannyy\n",
      "City not found. Skipping...\n",
      "Processing Record 11 of Set 4 | werder\n",
      "Processing Record 12 of Set 4 | lovington\n",
      "Processing Record 13 of Set 4 | qasigiannguit\n",
      "Processing Record 14 of Set 4 | mackay\n",
      "Processing Record 15 of Set 4 | pisco\n",
      "Processing Record 16 of Set 4 | marcona\n",
      "City not found. Skipping...\n",
      "Processing Record 17 of Set 4 | sisimiut\n",
      "Processing Record 18 of Set 4 | banda aceh\n",
      "Processing Record 19 of Set 4 | fortuna\n",
      "Processing Record 20 of Set 4 | ouadda\n",
      "Processing Record 21 of Set 4 | sucua\n",
      "Processing Record 22 of Set 4 | nanortalik\n",
      "Processing Record 23 of Set 4 | longyearbyen\n",
      "Processing Record 24 of Set 4 | araouane\n",
      "Processing Record 25 of Set 4 | barra patuca\n",
      "Processing Record 26 of Set 4 | warqla\n",
      "City not found. Skipping...\n",
      "Processing Record 27 of Set 4 | louisbourg\n",
      "City not found. Skipping...\n",
      "Processing Record 28 of Set 4 | wattegama\n",
      "Processing Record 29 of Set 4 | tuktoyaktuk\n",
      "Processing Record 30 of Set 4 | tabou\n",
      "Processing Record 31 of Set 4 | arraial do cabo\n",
      "Processing Record 32 of Set 4 | stabat\n",
      "Processing Record 33 of Set 4 | klaksvik\n",
      "Processing Record 34 of Set 4 | alofi\n",
      "Processing Record 35 of Set 4 | sumbawanga\n",
      "Processing Record 36 of Set 4 | lagoa\n",
      "Processing Record 37 of Set 4 | sentyabrskiy\n",
      "City not found. Skipping...\n",
      "Processing Record 38 of Set 4 | bambous virieux\n",
      "Processing Record 39 of Set 4 | saint george\n",
      "Processing Record 40 of Set 4 | hibbing\n",
      "Processing Record 41 of Set 4 | bandar-e lengeh\n",
      "Processing Record 42 of Set 4 | viedma\n",
      "Processing Record 43 of Set 4 | kazalinsk\n",
      "City not found. Skipping...\n",
      "Processing Record 44 of Set 4 | grand river south east\n",
      "City not found. Skipping...\n",
      "Processing Record 45 of Set 4 | port keats\n",
      "Processing Record 46 of Set 4 | jinchang\n",
      "Processing Record 47 of Set 4 | lata\n",
      "Processing Record 48 of Set 4 | fairbanks\n",
      "Processing Record 49 of Set 4 | olupona\n",
      "Processing Record 0 of Set 5 | genhe\n",
      "Processing Record 1 of Set 5 | dingle\n",
      "Processing Record 2 of Set 5 | williamsburg\n",
      "Processing Record 3 of Set 5 | anloga\n",
      "Processing Record 4 of Set 5 | esperance\n",
      "Processing Record 5 of Set 5 | saint-philippe\n",
      "Processing Record 6 of Set 5 | provideniya\n",
      "Processing Record 7 of Set 5 | bargal\n",
      "City not found. Skipping...\n",
      "Processing Record 8 of Set 5 | cockburn harbour\n",
      "City not found. Skipping...\n",
      "Processing Record 9 of Set 5 | dalvik\n",
      "Processing Record 10 of Set 5 | salalah\n",
      "Processing Record 11 of Set 5 | inta\n",
      "Processing Record 12 of Set 5 | naze\n",
      "Processing Record 13 of Set 5 | juneau\n",
      "Processing Record 14 of Set 5 | kurumkan\n",
      "Processing Record 15 of Set 5 | ranong\n",
      "Processing Record 16 of Set 5 | cockburn town\n",
      "Processing Record 17 of Set 5 | sakakah\n",
      "City not found. Skipping...\n",
      "Processing Record 18 of Set 5 | norman wells\n",
      "Processing Record 19 of Set 5 | hoquiam\n",
      "Processing Record 20 of Set 5 | georgetown\n",
      "Processing Record 21 of Set 5 | marv dasht\n",
      "City not found. Skipping...\n",
      "Processing Record 22 of Set 5 | ostrovnoy\n",
      "Processing Record 23 of Set 5 | placido de castro\n",
      "Processing Record 24 of Set 5 | anar darreh\n",
      "City not found. Skipping...\n",
      "Processing Record 25 of Set 5 | suksun\n",
      "Processing Record 26 of Set 5 | bengkulu\n",
      "City not found. Skipping...\n",
      "Processing Record 27 of Set 5 | samusu\n",
      "City not found. Skipping...\n",
      "Processing Record 28 of Set 5 | belushya guba\n",
      "City not found. Skipping...\n",
      "Processing Record 29 of Set 5 | faanui\n",
      "Processing Record 30 of Set 5 | ust-barguzin\n",
      "Processing Record 31 of Set 5 | itacare\n",
      "Processing Record 32 of Set 5 | nacogdoches\n",
      "Processing Record 33 of Set 5 | cape canaveral\n",
      "Processing Record 34 of Set 5 | puri\n",
      "Processing Record 35 of Set 5 | umzimvubu\n",
      "City not found. Skipping...\n",
      "Processing Record 36 of Set 5 | jubayl\n",
      "City not found. Skipping...\n",
      "Processing Record 37 of Set 5 | tarnow\n",
      "Processing Record 38 of Set 5 | vicuna\n",
      "City not found. Skipping...\n",
      "Processing Record 39 of Set 5 | jumla\n",
      "Processing Record 40 of Set 5 | ust-kuyga\n",
      "Processing Record 41 of Set 5 | saleaula\n",
      "City not found. Skipping...\n",
      "Processing Record 42 of Set 5 | rocha\n",
      "Processing Record 43 of Set 5 | tasiilaq\n",
      "Processing Record 44 of Set 5 | ribeira brava\n",
      "Processing Record 45 of Set 5 | norrtalje\n",
      "Processing Record 46 of Set 5 | warrington\n",
      "Processing Record 47 of Set 5 | noumea\n",
      "Processing Record 48 of Set 5 | akyab\n",
      "City not found. Skipping...\n",
      "Processing Record 49 of Set 5 | meadow lake\n",
      "Processing Record 0 of Set 6 | chimoio\n",
      "Processing Record 1 of Set 6 | oussouye\n",
      "Processing Record 2 of Set 6 | gazojak\n",
      "Processing Record 3 of Set 6 | balikpapan\n",
      "Processing Record 4 of Set 6 | jabiru\n",
      "City not found. Skipping...\n",
      "Processing Record 5 of Set 6 | torbay\n",
      "Processing Record 6 of Set 6 | elko\n",
      "Processing Record 7 of Set 6 | sao joao da barra\n",
      "Processing Record 8 of Set 6 | saquena\n",
      "Processing Record 9 of Set 6 | makokou\n",
      "Processing Record 10 of Set 6 | hambantota\n",
      "Processing Record 11 of Set 6 | beidao\n",
      "Processing Record 12 of Set 6 | praia da vitoria\n",
      "Processing Record 13 of Set 6 | port blair\n",
      "Processing Record 14 of Set 6 | tsihombe\n",
      "City not found. Skipping...\n",
      "Processing Record 15 of Set 6 | awbari\n",
      "Processing Record 16 of Set 6 | reconquista\n",
      "Processing Record 17 of Set 6 | aklavik\n",
      "Processing Record 18 of Set 6 | teya\n",
      "Processing Record 19 of Set 6 | toliary\n",
      "City not found. Skipping...\n",
      "Processing Record 20 of Set 6 | edinet\n",
      "Processing Record 21 of Set 6 | taoudenni\n",
      "Processing Record 22 of Set 6 | goundam\n",
      "Processing Record 23 of Set 6 | socorro\n",
      "Processing Record 24 of Set 6 | merrill\n",
      "Processing Record 25 of Set 6 | vagay\n",
      "Processing Record 26 of Set 6 | comodoro rivadavia\n",
      "Processing Record 27 of Set 6 | pudozh\n",
      "Processing Record 28 of Set 6 | sambava\n",
      "Processing Record 29 of Set 6 | batesville\n",
      "Processing Record 30 of Set 6 | mys shmidta\n",
      "City not found. Skipping...\n",
      "Processing Record 31 of Set 6 | itaituba\n",
      "Processing Record 32 of Set 6 | la asuncion\n",
      "Processing Record 33 of Set 6 | east london\n",
      "Processing Record 34 of Set 6 | chipinge\n",
      "Processing Record 35 of Set 6 | cedartown\n",
      "Processing Record 36 of Set 6 | miranda\n",
      "Processing Record 37 of Set 6 | utiroa\n",
      "City not found. Skipping...\n",
      "Processing Record 38 of Set 6 | sabang\n",
      "Processing Record 39 of Set 6 | abong mbang\n",
      "Processing Record 40 of Set 6 | port hardy\n",
      "Processing Record 41 of Set 6 | canon city\n",
      "Processing Record 42 of Set 6 | santa quiteria do maranhao\n",
      "Processing Record 43 of Set 6 | ryotsu\n",
      "Processing Record 44 of Set 6 | pacific grove\n",
      "Processing Record 45 of Set 6 | kishi\n",
      "Processing Record 46 of Set 6 | obihiro\n",
      "Processing Record 47 of Set 6 | katsuura\n",
      "Processing Record 48 of Set 6 | saint augustine\n",
      "Processing Record 49 of Set 6 | bushehr\n",
      "Processing Record 0 of Set 7 | nizhniy kuranakh\n",
      "Processing Record 1 of Set 7 | bonthe\n",
      "Processing Record 2 of Set 7 | saint-augustin\n",
      "Processing Record 3 of Set 7 | nizwa\n",
      "Processing Record 4 of Set 7 | kamenka\n",
      "Processing Record 5 of Set 7 | tiksi\n",
      "Processing Record 6 of Set 7 | saint anthony\n",
      "Processing Record 7 of Set 7 | vardo\n",
      "Processing Record 8 of Set 7 | riyadh\n",
      "Processing Record 9 of Set 7 | malim\n",
      "Processing Record 10 of Set 7 | makakilo city\n",
      "Processing Record 11 of Set 7 | henties bay\n",
      "Processing Record 12 of Set 7 | caravelas\n",
      "Processing Record 13 of Set 7 | gazli\n",
      "Processing Record 14 of Set 7 | nizhneyansk\n",
      "City not found. Skipping...\n",
      "Processing Record 15 of Set 7 | san juan\n",
      "Processing Record 16 of Set 7 | moose factory\n",
      "Processing Record 17 of Set 7 | kashi\n",
      "City not found. Skipping...\n",
      "Processing Record 18 of Set 7 | fuerte olimpo\n",
      "Processing Record 19 of Set 7 | saint-pierre\n",
      "Processing Record 20 of Set 7 | raca\n",
      "Processing Record 21 of Set 7 | san quintin\n",
      "Processing Record 22 of Set 7 | sedro-woolley\n",
      "Processing Record 23 of Set 7 | berdigestyakh\n",
      "Processing Record 24 of Set 7 | high level\n",
      "Processing Record 25 of Set 7 | khorramshahr\n",
      "Processing Record 26 of Set 7 | san jose\n",
      "Processing Record 27 of Set 7 | emba\n",
      "Processing Record 28 of Set 7 | farcasu\n",
      "Processing Record 29 of Set 7 | kruisfontein\n",
      "Processing Record 30 of Set 7 | garango\n",
      "Processing Record 31 of Set 7 | boa vista\n",
      "Processing Record 32 of Set 7 | novopskov\n",
      "Processing Record 33 of Set 7 | shimoda\n",
      "Processing Record 34 of Set 7 | portland\n",
      "Processing Record 35 of Set 7 | waingapu\n",
      "Processing Record 36 of Set 7 | zuwarah\n",
      "Processing Record 37 of Set 7 | muroto\n",
      "Processing Record 38 of Set 7 | sao filipe\n",
      "Processing Record 39 of Set 7 | attawapiskat\n",
      "City not found. Skipping...\n",
      "Processing Record 40 of Set 7 | lunenburg\n",
      "Processing Record 41 of Set 7 | novyy urengoy\n",
      "Processing Record 42 of Set 7 | ferry pass\n",
      "Processing Record 43 of Set 7 | crotone\n",
      "Processing Record 44 of Set 7 | arlit\n",
      "Processing Record 45 of Set 7 | auki\n",
      "Processing Record 46 of Set 7 | ambilobe\n",
      "Processing Record 47 of Set 7 | ilhabela\n",
      "Processing Record 48 of Set 7 | kirakira\n",
      "Processing Record 49 of Set 7 | cidreira\n",
      "Processing Record 0 of Set 8 | chambas\n",
      "Processing Record 1 of Set 8 | gat\n",
      "Processing Record 2 of Set 8 | petatlan\n",
      "Processing Record 3 of Set 8 | nha trang\n",
      "Processing Record 4 of Set 8 | hermosillo\n",
      "Processing Record 5 of Set 8 | airai\n",
      "Processing Record 6 of Set 8 | kahului\n",
      "Processing Record 7 of Set 8 | yeppoon\n",
      "Processing Record 8 of Set 8 | manavgat\n",
      "Processing Record 9 of Set 8 | jarjis\n",
      "City not found. Skipping...\n",
      "Processing Record 10 of Set 8 | xambioa\n",
      "City not found. Skipping...\n",
      "Processing Record 11 of Set 8 | katima mulilo\n",
      "Processing Record 12 of Set 8 | carutapera\n",
      "Processing Record 13 of Set 8 | yar-sale\n",
      "Processing Record 14 of Set 8 | haines junction\n",
      "Processing Record 15 of Set 8 | half moon bay\n",
      "Processing Record 16 of Set 8 | vanavara\n",
      "Processing Record 17 of Set 8 | santander\n",
      "Processing Record 18 of Set 8 | amuntai\n",
      "Processing Record 19 of Set 8 | esmeraldas\n",
      "Processing Record 20 of Set 8 | okhotsk\n",
      "Processing Record 21 of Set 8 | datong\n",
      "Processing Record 22 of Set 8 | sidi ali\n",
      "Processing Record 23 of Set 8 | muravlenko\n",
      "Processing Record 24 of Set 8 | amahai\n",
      "Processing Record 25 of Set 8 | santa isabel do rio negro\n",
      "Processing Record 26 of Set 8 | wageningen\n",
      "Processing Record 27 of Set 8 | svetlogorsk\n",
      "Processing Record 28 of Set 8 | paita\n",
      "Processing Record 29 of Set 8 | maniitsoq\n",
      "Processing Record 30 of Set 8 | port augusta\n",
      "Processing Record 31 of Set 8 | yulara\n",
      "Processing Record 32 of Set 8 | bur gabo\n",
      "City not found. Skipping...\n",
      "Processing Record 33 of Set 8 | hofn\n",
      "Processing Record 34 of Set 8 | pulupandan\n",
      "Processing Record 35 of Set 8 | wajima\n",
      "Processing Record 36 of Set 8 | dnestrovsc\n",
      "Processing Record 37 of Set 8 | biak\n",
      "Processing Record 38 of Set 8 | bam\n",
      "Processing Record 39 of Set 8 | tacoronte\n",
      "Processing Record 40 of Set 8 | otavi\n",
      "Processing Record 41 of Set 8 | adrar\n",
      "Processing Record 42 of Set 8 | srednekolymsk\n",
      "Processing Record 43 of Set 8 | belmonte\n",
      "Processing Record 44 of Set 8 | san cristobal\n",
      "Processing Record 45 of Set 8 | kalomo\n",
      "City not found. Skipping...\n",
      "Processing Record 46 of Set 8 | callaway\n",
      "Processing Record 47 of Set 8 | birao\n",
      "Processing Record 48 of Set 8 | itoman\n",
      "Processing Record 49 of Set 8 | uch\n",
      "Processing Record 0 of Set 9 | santona\n",
      "Processing Record 1 of Set 9 | onguday\n",
      "Processing Record 2 of Set 9 | hangu\n",
      "Processing Record 3 of Set 9 | geraldton\n",
      "Processing Record 4 of Set 9 | gorele\n",
      "Processing Record 5 of Set 9 | erenhot\n",
      "Processing Record 6 of Set 9 | hauterive\n",
      "Processing Record 7 of Set 9 | kerema\n",
      "Processing Record 8 of Set 9 | jalu\n",
      "Processing Record 9 of Set 9 | inhambane\n",
      "Processing Record 10 of Set 9 | kenai\n",
      "Processing Record 11 of Set 9 | azimur\n",
      "City not found. Skipping...\n",
      "Processing Record 12 of Set 9 | joshimath\n",
      "Processing Record 13 of Set 9 | hamilton\n",
      "Processing Record 14 of Set 9 | talnakh\n",
      "Processing Record 15 of Set 9 | nam tha\n",
      "City not found. Skipping...\n",
      "Processing Record 16 of Set 9 | dzhusaly\n",
      "City not found. Skipping...\n",
      "Processing Record 17 of Set 9 | egvekinot\n",
      "Processing Record 18 of Set 9 | victoria\n",
      "Processing Record 19 of Set 9 | atbasar\n",
      "Processing Record 20 of Set 9 | bulembu\n",
      "Processing Record 21 of Set 9 | hohhot\n",
      "Processing Record 22 of Set 9 | halifax\n",
      "Processing Record 23 of Set 9 | rehoboth\n",
      "Processing Record 24 of Set 9 | beloha\n",
      "Processing Record 25 of Set 9 | sehithwa\n",
      "Processing Record 26 of Set 9 | burdur\n",
      "Processing Record 27 of Set 9 | baruun-urt\n",
      "Processing Record 28 of Set 9 | fagernes\n",
      "Processing Record 29 of Set 9 | domoni\n",
      "City not found. Skipping...\n",
      "Processing Record 30 of Set 9 | toyooka\n",
      "Processing Record 31 of Set 9 | nantucket\n",
      "Processing Record 32 of Set 9 | martaban\n",
      "Processing Record 33 of Set 9 | puerto escondido\n",
      "Processing Record 34 of Set 9 | port moresby\n",
      "Processing Record 35 of Set 9 | malinovskiy\n",
      "Processing Record 36 of Set 9 | kumluca\n",
      "Processing Record 37 of Set 9 | salinas\n",
      "Processing Record 38 of Set 9 | mount isa\n",
      "Processing Record 39 of Set 9 | cherskiy\n",
      "Processing Record 40 of Set 9 | gobabis\n",
      "Processing Record 41 of Set 9 | bilma\n",
      "Processing Record 42 of Set 9 | abiy adi\n",
      "City not found. Skipping...\n",
      "Processing Record 43 of Set 9 | fort nelson\n",
      "Processing Record 44 of Set 9 | quesnel\n",
      "Processing Record 45 of Set 9 | dakar\n",
      "Processing Record 46 of Set 9 | maloshuyka\n",
      "City not found. Skipping...\n",
      "Processing Record 47 of Set 9 | santiago del estero\n",
      "Processing Record 48 of Set 9 | buala\n",
      "Processing Record 49 of Set 9 | irbeyskoye\n",
      "Processing Record 0 of Set 10 | vila franca do campo\n",
      "Processing Record 1 of Set 10 | coihaique\n",
      "Processing Record 2 of Set 10 | los llanos de aridane\n",
      "Processing Record 3 of Set 10 | muros\n",
      "Processing Record 4 of Set 10 | port hedland\n",
      "Processing Record 5 of Set 10 | kieta\n",
      "Processing Record 6 of Set 10 | satitoa\n",
      "City not found. Skipping...\n",
      "Processing Record 7 of Set 10 | green river\n",
      "Processing Record 8 of Set 10 | mosonmagyarovar\n",
      "Processing Record 9 of Set 10 | mindelo\n",
      "Processing Record 10 of Set 10 | roblin\n",
      "Processing Record 11 of Set 10 | la ronge\n",
      "Processing Record 12 of Set 10 | tubuala\n",
      "Processing Record 13 of Set 10 | port-gentil\n",
      "Processing Record 14 of Set 10 | mordovo\n",
      "Processing Record 15 of Set 10 | clyde river\n",
      "Processing Record 16 of Set 10 | karaul\n",
      "City not found. Skipping...\n",
      "Processing Record 17 of Set 10 | aykhal\n",
      "Processing Record 18 of Set 10 | tuensang\n",
      "Processing Record 19 of Set 10 | pascagoula\n",
      "Processing Record 20 of Set 10 | korla\n",
      "City not found. Skipping...\n",
      "Processing Record 21 of Set 10 | canto do buriti\n",
      "Processing Record 22 of Set 10 | bijie\n",
      "Processing Record 23 of Set 10 | san-pedro\n",
      "Processing Record 24 of Set 10 | luorong\n",
      "Processing Record 25 of Set 10 | yei\n",
      "City not found. Skipping...\n",
      "Processing Record 26 of Set 10 | berlevag\n",
      "Processing Record 27 of Set 10 | hihifo\n",
      "City not found. Skipping...\n",
      "Processing Record 28 of Set 10 | satipo\n",
      "Processing Record 29 of Set 10 | rawson\n",
      "Processing Record 30 of Set 10 | marsh harbour\n",
      "Processing Record 31 of Set 10 | taupo\n",
      "Processing Record 32 of Set 10 | san carlos de bariloche\n",
      "Processing Record 33 of Set 10 | pervomayskoye\n",
      "Processing Record 34 of Set 10 | chicama\n",
      "Processing Record 35 of Set 10 | angoche\n",
      "Processing Record 36 of Set 10 | brae\n",
      "Processing Record 37 of Set 10 | manokwari\n",
      "Processing Record 38 of Set 10 | mauganj\n",
      "Processing Record 39 of Set 10 | te anau\n",
      "Processing Record 40 of Set 10 | vila velha\n",
      "Processing Record 41 of Set 10 | tautira\n",
      "Processing Record 42 of Set 10 | dong xoai\n",
      "Processing Record 43 of Set 10 | batemans bay\n",
      "Processing Record 44 of Set 10 | diapaga\n",
      "Processing Record 45 of Set 10 | mangrol\n",
      "Processing Record 46 of Set 10 | mersing\n",
      "Processing Record 47 of Set 10 | maldonado\n",
      "Processing Record 48 of Set 10 | mikhaylovka\n",
      "Processing Record 49 of Set 10 | temple\n",
      "Processing Record 0 of Set 11 | gigmoto\n",
      "Processing Record 1 of Set 11 | makow mazowiecki\n",
      "Processing Record 2 of Set 11 | lasa\n",
      "Processing Record 3 of Set 11 | mazamari\n",
      "Processing Record 4 of Set 11 | matagami\n",
      "Processing Record 5 of Set 11 | steamboat springs\n",
      "Processing Record 6 of Set 11 | mount gambier\n",
      "Processing Record 7 of Set 11 | chyhyryn\n",
      "Processing Record 8 of Set 11 | nortelandia\n",
      "Processing Record 9 of Set 11 | imperial\n",
      "Processing Record 10 of Set 11 | progreso\n",
      "Processing Record 11 of Set 11 | hvammstangi\n",
      "City not found. Skipping...\n",
      "Processing Record 12 of Set 11 | arriaga\n",
      "Processing Record 13 of Set 11 | qusar\n",
      "Processing Record 14 of Set 11 | tessalit\n",
      "Processing Record 15 of Set 11 | de aar\n",
      "Processing Record 16 of Set 11 | kutum\n",
      "Processing Record 17 of Set 11 | ketchikan\n",
      "Processing Record 18 of Set 11 | peleduy\n",
      "Processing Record 19 of Set 11 | libenge\n",
      "Processing Record 20 of Set 11 | kapoeta\n",
      "City not found. Skipping...\n",
      "Processing Record 21 of Set 11 | tomatlan\n",
      "Processing Record 22 of Set 11 | lalmohan\n",
      "Processing Record 23 of Set 11 | vastervik\n",
      "City not found. Skipping...\n",
      "Processing Record 24 of Set 11 | serowe\n",
      "Processing Record 25 of Set 11 | mihail kogalniceanu\n",
      "Processing Record 26 of Set 11 | broken hill\n",
      "Processing Record 27 of Set 11 | ajaccio\n",
      "Processing Record 28 of Set 11 | suntar\n",
      "Processing Record 29 of Set 11 | mezica\n",
      "Processing Record 30 of Set 11 | sitka\n",
      "Processing Record 31 of Set 11 | ewa beach\n",
      "Processing Record 32 of Set 11 | songea\n",
      "Processing Record 33 of Set 11 | monroe\n",
      "Processing Record 34 of Set 11 | cravo norte\n",
      "Processing Record 35 of Set 11 | ystad\n",
      "Processing Record 36 of Set 11 | beyneu\n",
      "Processing Record 37 of Set 11 | almaznyy\n",
      "Processing Record 38 of Set 11 | vestmannaeyjar\n",
      "Processing Record 39 of Set 11 | cananeia\n",
      "Processing Record 40 of Set 11 | alta floresta\n",
      "Processing Record 41 of Set 11 | maketu\n",
      "Processing Record 42 of Set 11 | mecca\n",
      "Processing Record 43 of Set 11 | felidhoo\n",
      "City not found. Skipping...\n",
      "Processing Record 44 of Set 11 | manta\n",
      "Processing Record 45 of Set 11 | nebug\n",
      "Processing Record 46 of Set 11 | temaraia\n",
      "City not found. Skipping...\n",
      "Processing Record 47 of Set 11 | constitucion\n",
      "Processing Record 48 of Set 11 | cabimas\n",
      "Processing Record 49 of Set 11 | palabuhanratu\n",
      "City not found. Skipping...\n",
      "Processing Record 0 of Set 12 | khudumelapye\n",
      "Processing Record 1 of Set 12 | husavik\n",
      "Processing Record 2 of Set 12 | olinda\n",
      "Processing Record 3 of Set 12 | coquimbo\n",
      "Processing Record 4 of Set 12 | kambove\n",
      "Processing Record 5 of Set 12 | iquique\n",
      "Processing Record 6 of Set 12 | yenagoa\n",
      "Processing Record 7 of Set 12 | konakovo\n",
      "Processing Record 8 of Set 12 | labuhan\n",
      "Processing Record 9 of Set 12 | sampit\n",
      "Processing Record 10 of Set 12 | gayny\n",
      "Processing Record 11 of Set 12 | trafaria\n",
      "Processing Record 12 of Set 12 | zyryanka\n",
      "Processing Record 13 of Set 12 | soavinandriana\n",
      "Processing Record 14 of Set 12 | xiongzhou\n",
      "Processing Record 15 of Set 12 | labutta\n",
      "City not found. Skipping...\n",
      "Processing Record 16 of Set 12 | chagda\n",
      "City not found. Skipping...\n",
      "Processing Record 17 of Set 12 | batamshinskiy\n",
      "Processing Record 18 of Set 12 | kailua\n",
      "Processing Record 19 of Set 12 | kaliyaganj\n",
      "Processing Record 20 of Set 12 | cozumel\n",
      "City not found. Skipping...\n",
      "Processing Record 21 of Set 12 | obo\n",
      "Processing Record 22 of Set 12 | mushie\n",
      "Processing Record 23 of Set 12 | ishigaki\n",
      "Processing Record 24 of Set 12 | newport\n",
      "Processing Record 25 of Set 12 | quang ngai\n",
      "Processing Record 26 of Set 12 | butembo\n",
      "Processing Record 27 of Set 12 | palmer\n",
      "Processing Record 28 of Set 12 | motril\n",
      "Processing Record 29 of Set 12 | patitirion\n",
      "Processing Record 30 of Set 12 | omboue\n",
      "Processing Record 31 of Set 12 | waipawa\n",
      "Processing Record 32 of Set 12 | sakaiminato\n",
      "Processing Record 33 of Set 12 | raga\n",
      "City not found. Skipping...\n",
      "Processing Record 34 of Set 12 | xingcheng\n",
      "Processing Record 35 of Set 12 | necochea\n",
      "Processing Record 36 of Set 12 | gao\n",
      "Processing Record 37 of Set 12 | mrirt\n",
      "City not found. Skipping...\n",
      "Processing Record 38 of Set 12 | gardan diwal\n",
      "City not found. Skipping...\n",
      "Processing Record 39 of Set 12 | jiwani\n",
      "Processing Record 40 of Set 12 | yurla\n",
      "Processing Record 41 of Set 12 | codrington\n",
      "Processing Record 42 of Set 12 | kalmunai\n",
      "Processing Record 43 of Set 12 | flinders\n",
      "Processing Record 44 of Set 12 | primorsko-akhtarsk\n",
      "Processing Record 45 of Set 12 | ilulissat\n",
      "Processing Record 46 of Set 12 | vaitupu\n",
      "City not found. Skipping...\n",
      "Processing Record 47 of Set 12 | isfana\n",
      "Processing Record 48 of Set 12 | borshchiv\n",
      "Processing Record 49 of Set 12 | hobyo\n",
      "Processing Record 0 of Set 13 | aktash\n",
      "City not found. Skipping...\n",
      "Processing Record 1 of Set 13 | syamzha\n",
      "Processing Record 2 of Set 13 | mahibadhoo\n",
      "Processing Record 3 of Set 13 | tiznit\n",
      "Processing Record 4 of Set 13 | point fortin\n",
      "-----------------------------\n",
      "Data Retrieval Complete      \n",
      "-----------------------------\n"
     ]
    }
   ],
   "source": []
  },
  {
   "cell_type": "markdown",
   "metadata": {},
   "source": [
    "### Convert Raw Data to DataFrame\n",
    "* Export the city data into a .csv.\n",
    "* Display the DataFrame"
   ]
  },
  {
   "cell_type": "code",
   "execution_count": 71,
   "metadata": {},
   "outputs": [],
   "source": [
    "city_data_df= pd.DataFrame(city_data,)\n",
    "\n",
    "# lats = city_data_df[\"Lat\"]\n",
    "# max_temps = city_data_df[\"Max Temp\"]\n",
    "# humidity = city_data_df[\"Humidity\"]\n",
    "# cloudiness = city_data_df[\"Cloudiness\"]\n",
    "# wind_speed = city_data_df[\"Wind Speed\"]\n"
   ]
  },
  {
   "cell_type": "code",
   "execution_count": 72,
   "metadata": {},
   "outputs": [],
   "source": [
    "# Export the City_Data into a csv\n",
    "\n",
    "city_data_df.to_csv(output_data_file, index_label=\"City_ID\")"
   ]
  },
  {
   "cell_type": "code",
   "execution_count": 1,
   "metadata": {},
   "outputs": [
    {
     "ename": "NameError",
     "evalue": "name 'city_data_df' is not defined",
     "output_type": "error",
     "traceback": [
      "\u001b[1;31m---------------------------------------------------------------------------\u001b[0m",
      "\u001b[1;31mNameError\u001b[0m                                 Traceback (most recent call last)",
      "\u001b[1;32m<ipython-input-1-32403320a03e>\u001b[0m in \u001b[0;36m<module>\u001b[1;34m\u001b[0m\n\u001b[1;32m----> 1\u001b[1;33m \u001b[0mcity_data_df\u001b[0m\u001b[1;33m.\u001b[0m\u001b[0mcount\u001b[0m\u001b[1;33m(\u001b[0m\u001b[1;33m)\u001b[0m\u001b[1;33m\u001b[0m\u001b[1;33m\u001b[0m\u001b[0m\n\u001b[0m",
      "\u001b[1;31mNameError\u001b[0m: name 'city_data_df' is not defined"
     ]
    }
   ],
   "source": [
    "city_data_df.count()"
   ]
  },
  {
   "cell_type": "code",
   "execution_count": 2,
   "metadata": {},
   "outputs": [
    {
     "ename": "NameError",
     "evalue": "name 'city_data_df' is not defined",
     "output_type": "error",
     "traceback": [
      "\u001b[1;31m---------------------------------------------------------------------------\u001b[0m",
      "\u001b[1;31mNameError\u001b[0m                                 Traceback (most recent call last)",
      "\u001b[1;32m<ipython-input-2-fc69602d0cb4>\u001b[0m in \u001b[0;36m<module>\u001b[1;34m\u001b[0m\n\u001b[1;32m----> 1\u001b[1;33m \u001b[0mcity_data_df\u001b[0m\u001b[1;33m.\u001b[0m\u001b[0mhead\u001b[0m\u001b[1;33m(\u001b[0m\u001b[1;33m)\u001b[0m\u001b[1;33m\u001b[0m\u001b[1;33m\u001b[0m\u001b[0m\n\u001b[0m",
      "\u001b[1;31mNameError\u001b[0m: name 'city_data_df' is not defined"
     ]
    }
   ],
   "source": [
    "city_data_df.head()"
   ]
  },
  {
   "cell_type": "code",
   "execution_count": null,
   "metadata": {},
   "outputs": [],
   "source": []
  },
  {
   "cell_type": "code",
   "execution_count": null,
   "metadata": {},
   "outputs": [],
   "source": []
  },
  {
   "cell_type": "markdown",
   "metadata": {},
   "source": [
    "### Plotting the Data\n",
    "* Use proper labeling of the plots using plot titles (including date of analysis) and axes labels.\n",
    "* Save the plotted figures as .pngs."
   ]
  },
  {
   "cell_type": "code",
   "execution_count": null,
   "metadata": {},
   "outputs": [],
   "source": []
  },
  {
   "cell_type": "markdown",
   "metadata": {},
   "source": [
    "#### Latitude vs. Temperature Plot"
   ]
  },
  {
   "cell_type": "code",
   "execution_count": 82,
   "metadata": {
    "scrolled": true
   },
   "outputs": [
    {
     "data": {
      "image/png": "[encoded data removed]",
      "text/plain": [
       "<Figure size 432x288 with 1 Axes>"
      ]
     },
     "metadata": {
      "needs_background": "light"
     },
     "output_type": "display_data"
    }
   ],
   "source": [
    " # Build scatter plot for latitude vs. temperature\n",
    "plt.scatter(lat, \n",
    "            max_temp,\n",
    "            edgecolor=\"black\", linewidths=1, marker=\"o\", \n",
    "            alpha=0.8, label=\"Cities\")\n",
    "\n",
    "# Incorporate the other graph properties\n",
    "plt.title(\"City Latitude vs. Max Temperature (%s)\" % time.strftime(\"%x\"))\n",
    "plt.ylabel(\"Max Temperature (F)\")\n",
    "plt.xlabel(\"Latitude\")\n",
    "plt.grid(True)\n",
    "\n",
    "# Save the figure\n",
    "plt.savefig(\"output_data/Fig1.png\")\n",
    "\n",
    "# Show plot\n",
    "plt.show()"
   ]
  },
  {
   "cell_type": "markdown",
   "metadata": {},
   "source": [
    "#### Latitude vs. Humidity Plot"
   ]
  },
  {
   "cell_type": "code",
   "execution_count": 80,
   "metadata": {},
   "outputs": [
    {
     "data": {
      "image/png": "[encoded data removed]",
      "text/plain": [
       "<Figure size 432x288 with 1 Axes>"
      ]
     },
     "metadata": {
      "needs_background": "light"
     },
     "output_type": "display_data"
    }
   ],
   "source": [
    "plt.scatter(lat, \n",
    "            humidity,\n",
    "            edgecolor=\"black\", linewidths=1, marker=\"o\", \n",
    "            alpha=0.8, label=\"Cities\")\n",
    "\n",
    "# Incorporate the other graph properties\n",
    "plt.title(\"City Latitude vs. Humidity (%s)\" % time.strftime(\"%x\"))\n",
    "plt.ylabel(\"Humidity (%)\")\n",
    "plt.xlabel(\"Latitude\")\n",
    "plt.grid(True)\n",
    "\n",
    "# Save the figure\n",
    "plt.savefig(\"output_data/Fig2.png\")\n",
    "\n",
    "# Show plot\n",
    "plt.show()"
   ]
  },
  {
   "cell_type": "markdown",
   "metadata": {},
   "source": [
    "#### Latitude vs. Cloudiness Plot"
   ]
  },
  {
   "cell_type": "code",
   "execution_count": null,
   "metadata": {},
   "outputs": [],
   "source": []
  },
  {
   "cell_type": "markdown",
   "metadata": {},
   "source": [
    "#### Latitude vs. Wind Speed Plot"
   ]
  },
  {
   "cell_type": "code",
   "execution_count": 83,
   "metadata": {},
   "outputs": [
    {
     "data": {
      "image/png": "[encoded data removed]",
      "text/plain": [
       "<Figure size 432x288 with 1 Axes>"
      ]
     },
     "metadata": {
      "needs_background": "light"
     },
     "output_type": "display_data"
    }
   ],
   "source": [
    "# Build the scatter plots for latitude vs. wind speed\n",
    "plt.scatter(lat, \n",
    "            wind_speed,\n",
    "            edgecolor=\"black\", linewidths=1, marker=\"o\", \n",
    "            alpha=0.8, label=\"Cities\")\n",
    "\n",
    "# Incorporate the other graph properties\n",
    "plt.title(\"City Latitude vs. Wind Speed (%s)\" % time.strftime(\"%x\"))\n",
    "plt.ylabel(\"Wind Speed (mph)\")\n",
    "plt.xlabel(\"Latitude\")\n",
    "plt.grid(True)\n",
    "\n",
    "# Save the figure\n",
    "plt.savefig(\"output_data/Fig4.png\")\n",
    "\n",
    "# Show plot\n",
    "plt.show()"
   ]
  },
  {
   "cell_type": "markdown",
   "metadata": {},
   "source": [
    "## Linear Regression"
   ]
  },
  {
   "cell_type": "code",
   "execution_count": 84,
   "metadata": {},
   "outputs": [],
   "source": [
    "# OPTIONAL: Create a function to create Linear Regression plots\n",
    "\n",
    "# Create a function to create Linear Regression plots\n",
    "def plot_linear_regression(x_values, y_values, title, text_coordinates):\n",
    "    \n",
    "    # Run regresson on southern hemisphere\n",
    "    (slope, intercept, rvalue, pvalue, stderr) = linregress(x_values, y_values)\n",
    "    regress_values = x_values * slope + intercept\n",
    "    line_eq = \"y = \" + str(round(slope,2)) + \"x + \" + str(round(intercept,2))\n",
    "\n",
    "    # Plot\n",
    "    plt.scatter(x_values,y_values)\n",
    "    plt.plot(x_values,regress_values,\"r-\")\n",
    "    plt.annotate(line_eq,text_coordinates,fontsize=15,color=\"red\")\n",
    "    plt.xlabel('Latitude')\n",
    "    plt.ylabel(title)\n",
    "    print(f\"The r-squared is: {rvalue}\")\n",
    "    plt.show()"
   ]
  },
  {
   "cell_type": "code",
   "execution_count": 86,
   "metadata": {},
   "outputs": [],
   "source": [
    "# Create Northern and Southern Hemisphere DataFrames\n",
    "\n",
    "northern_hemi_df = city_data_df.loc[(city_data_df[\"Lat\"] >= 0)]\n",
    "southern_hemi_df = city_data_df.loc[(city_data_df[\"Lat\"] < 0)]"
   ]
  },
  {
   "cell_type": "markdown",
   "metadata": {},
   "source": [
    "####  Northern Hemisphere - Max Temp vs. Latitude Linear Regression"
   ]
  },
  {
   "cell_type": "code",
   "execution_count": 87,
   "metadata": {},
   "outputs": [
    {
     "name": "stdout",
     "output_type": "stream",
     "text": [
      "The r-squared is: -0.8882298448471247\n"
     ]
    },
    {
     "data": {
      "image/png": "[encoded data removed]",
      "text/plain": [
       "<Figure size 432x288 with 1 Axes>"
      ]
     },
     "metadata": {
      "needs_background": "light"
     },
     "output_type": "display_data"
    }
   ],
   "source": [
    " # Linear regression on Northern Hemisphere\n",
    "x_values = northern_hemi_df[\"Lat\"]\n",
    "y_values = northern_hemi_df[\"Max Temp\"]\n",
    "plot_linear_regression(x_values, y_values, 'Max Temp',(6,30))"
   ]
  },
  {
   "cell_type": "markdown",
   "metadata": {},
   "source": [
    "####  Southern Hemisphere - Max Temp vs. Latitude Linear Regression"
   ]
  },
  {
   "cell_type": "code",
   "execution_count": 88,
   "metadata": {},
   "outputs": [
    {
     "name": "stdout",
     "output_type": "stream",
     "text": [
      "The r-squared is: 0.4313352880757277\n"
     ]
    },
    {
     "data": {
      "image/png": "[encoded data removed]",
      "text/plain": [
       "<Figure size 432x288 with 1 Axes>"
      ]
     },
     "metadata": {
      "needs_background": "light"
     },
     "output_type": "display_data"
    }
   ],
   "source": [
    "x_values = southern_hemi_df[\"Lat\"]\n",
    "y_values = southern_hemi_df[\"Max Temp\"]\n",
    "plot_linear_regression(x_values, y_values, 'Max Temp', (-30,40))"
   ]
  },
  {
   "cell_type": "markdown",
   "metadata": {},
   "source": [
    "####  Northern Hemisphere - Humidity (%) vs. Latitude Linear Regression"
   ]
  },
  {
   "cell_type": "code",
   "execution_count": 89,
   "metadata": {},
   "outputs": [
    {
     "name": "stdout",
     "output_type": "stream",
     "text": [
      "The r-squared is: 0.37958700229754555\n"
     ]
    },
    {
     "data": {
      "image/png": "[encoded data removed]",
      "text/plain": [
       "<Figure size 432x288 with 1 Axes>"
      ]
     },
     "metadata": {
      "needs_background": "light"
     },
     "output_type": "display_data"
    }
   ],
   "source": [
    " # Northern Hemisphere\n",
    "x_values = northern_hemi_df[\"Lat\"]\n",
    "y_values = northern_hemi_df[\"Humidity\"]\n",
    "plot_linear_regression(x_values, y_values, 'Humidity',(40,10))"
   ]
  },
  {
   "cell_type": "markdown",
   "metadata": {},
   "source": [
    "####  Southern Hemisphere - Humidity (%) vs. Latitude Linear Regression"
   ]
  },
  {
   "cell_type": "code",
   "execution_count": 90,
   "metadata": {},
   "outputs": [
    {
     "name": "stdout",
     "output_type": "stream",
     "text": [
      "The r-squared is: 0.13061547577476204\n"
     ]
    },
    {
     "data": {
      "image/png": "[encoded data removed]",
      "text/plain": [
       "<Figure size 432x288 with 1 Axes>"
      ]
     },
     "metadata": {
      "needs_background": "light"
     },
     "output_type": "display_data"
    }
   ],
   "source": [
    " # Southern Hemisphere\n",
    "x_values = southern_hemi_df[\"Lat\"]\n",
    "y_values = southern_hemi_df[\"Humidity\"]\n",
    "plot_linear_regression(x_values, y_values, 'Humidity', (-30,150))"
   ]
  },
  {
   "cell_type": "markdown",
   "metadata": {},
   "source": [
    "####  Northern Hemisphere - Cloudiness (%) vs. Latitude Linear Regression"
   ]
  },
  {
   "cell_type": "code",
   "execution_count": 115,
   "metadata": {},
   "outputs": [
    {
     "name": "stdout",
     "output_type": "stream",
     "text": [
      "The r-squared is: -0.08733547918934018\n"
     ]
    },
    {
     "data": {
      "image/png": "[encoded data removed]",
      "text/plain": [
       "<matplotlib.figure.Figure at 0x1a20b2e898>"
      ]
     },
     "metadata": {},
     "output_type": "display_data"
    }
   ],
   "source": []
  },
  {
   "cell_type": "markdown",
   "metadata": {},
   "source": [
    "####  Southern Hemisphere - Cloudiness (%) vs. Latitude Linear Regression"
   ]
  },
  {
   "cell_type": "code",
   "execution_count": 114,
   "metadata": {},
   "outputs": [
    {
     "name": "stdout",
     "output_type": "stream",
     "text": [
      "The r-squared is: 0.21881426893991618\n"
     ]
    },
    {
     "data": {
      "image/png": "[encoded data removed]",
      "text/plain": [
       "<matplotlib.figure.Figure at 0x1a20affa20>"
      ]
     },
     "metadata": {},
     "output_type": "display_data"
    }
   ],
   "source": []
  },
  {
   "cell_type": "markdown",
   "metadata": {},
   "source": [
    "####  Northern Hemisphere - Wind Speed (mph) vs. Latitude Linear Regression"
   ]
  },
  {
   "cell_type": "code",
   "execution_count": 91,
   "metadata": {},
   "outputs": [
    {
     "name": "stdout",
     "output_type": "stream",
     "text": [
      "The r-squared is: 0.08335586767386548\n"
     ]
    },
    {
     "data": {
      "image/png": "[encoded data removed]",
      "text/plain": [
       "<Figure size 432x288 with 1 Axes>"
      ]
     },
     "metadata": {
      "needs_background": "light"
     },
     "output_type": "display_data"
    }
   ],
   "source": [
    " # Northern Hemisphere\n",
    "x_values = northern_hemi_df[\"Lat\"]\n",
    "y_values = northern_hemi_df[\"Wind Speed\"]\n",
    "plot_linear_regression(x_values, y_values, 'Wind Speed', (40,25))"
   ]
  },
  {
   "cell_type": "markdown",
   "metadata": {},
   "source": [
    "####  Southern Hemisphere - Wind Speed (mph) vs. Latitude Linear Regression"
   ]
  },
  {
   "cell_type": "code",
   "execution_count": 92,
   "metadata": {},
   "outputs": [
    {
     "name": "stdout",
     "output_type": "stream",
     "text": [
      "The r-squared is: -0.261050094118375\n"
     ]
    },
    {
     "data": {
      "image/png": "[encoded data removed]",
      "text/plain": [
       "<Figure size 432x288 with 1 Axes>"
      ]
     },
     "metadata": {
      "needs_background": "light"
     },
     "output_type": "display_data"
    }
   ],
   "source": [
    " # Southern Hemisphere\n",
    "x_values = southern_hemi_df[\"Lat\"]\n",
    "y_values = southern_hemi_df[\"Wind Speed\"]\n",
    "plot_linear_regression(x_values, y_values, 'Wind Speed', (-30,30))"
   ]
  },
  {
   "cell_type": "code",
   "execution_count": null,
   "metadata": {},
   "outputs": [],
   "source": []
  }
 ],
 "metadata": {
  "anaconda-cloud": {},
  "kernel_info": {
   "name": "python3"
  },
  "kernelspec": {
   "display_name": "Python 3",
   "language": "python",
   "name": "python3"
  },
  "language_info": {
   "codemirror_mode": {
    "name": "ipython",
    "version": 3
   },
   "file_extension": ".py",
   "mimetype": "text/x-python",
   "name": "python",
   "nbconvert_exporter": "python",
   "pygments_lexer": "ipython3",
   "version": "3.7.4"
  },
  "latex_envs": {
   "LaTeX_envs_menu_present": true,
   "autoclose": false,
   "autocomplete": true,
   "bibliofile": "biblio.bib",
   "cite_by": "apalike",
   "current_citInitial": 1,
   "eqLabelWithNumbers": true,
   "eqNumInitial": 1,
   "hotkeys": {
    "equation": "Ctrl-E",
    "itemize": "Ctrl-I"
   },
   "labels_anchors": false,
   "latex_user_defs": false,
   "report_style_numbering": false,
   "user_envs_cfg": false
  },
  "nteract": {
   "version": "0.12.3"
  }
 },
 "nbformat": 4,
 "nbformat_minor": 2
}
